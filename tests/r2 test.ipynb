{
 "cells": [
  {
   "cell_type": "code",
   "id": "e479c01850badeb3",
   "metadata": {
    "ExecuteTime": {
     "end_time": "2025-02-28T18:31:31.277233Z",
     "start_time": "2025-02-28T18:31:31.149699Z"
    }
   },
   "source": "import boto3",
   "outputs": [],
   "execution_count": 1
  },
  {
   "metadata": {
    "ExecuteTime": {
     "end_time": "2025-02-28T18:33:00.123310Z",
     "start_time": "2025-02-28T18:33:00.119345Z"
    }
   },
   "cell_type": "code",
   "source": [
    "with open('/home/raameshb/cloudflare_ossig_r2_keys', 'r') as f:\n",
    "    data = f.read().splitlines()"
   ],
   "id": "f52734f9da490fa7",
   "outputs": [],
   "execution_count": 3
  },
  {
   "metadata": {
    "ExecuteTime": {
     "end_time": "2025-02-28T18:33:03.587327Z",
     "start_time": "2025-02-28T18:33:03.581054Z"
    }
   },
   "cell_type": "code",
   "source": "data",
   "id": "11baf2a0f8905839",
   "outputs": [
    {
     "data": {
      "text/plain": [
       "['[Token Value]',\n",
       " 'u8UdgSW-ojJRCilPYGV_Eo34-5kpNvwt1KVZZI_J',\n",
       " '',\n",
       " '[Access Key ID]',\n",
       " 'df7729b9bd57e007d614b01f4fae27d5',\n",
       " '',\n",
       " '[Secret Access Key]',\n",
       " 'bf907ad610bc2b9cca69765a78cb1b79c14566853b5b4c4c59dc638bf13f9315',\n",
       " '',\n",
       " '[Jurisdiction-Specific S3 Endpoints]',\n",
       " 'https://57e15516b988cc8df24b87024e530abb.r2.cloudflarestorage.com']"
      ]
     },
     "execution_count": 4,
     "metadata": {},
     "output_type": "execute_result"
    }
   ],
   "execution_count": 4
  },
  {
   "metadata": {
    "ExecuteTime": {
     "end_time": "2025-02-28T18:34:21.115611Z",
     "start_time": "2025-02-28T18:34:21.110659Z"
    }
   },
   "cell_type": "code",
   "source": [
    "access_key_id = data[4]\n",
    "secret_access_key = data[7]\n",
    "s3_endpoint = data[10]"
   ],
   "id": "79f370aaf37015df",
   "outputs": [],
   "execution_count": 5
  },
  {
   "metadata": {
    "collapsed": true,
    "ExecuteTime": {
     "end_time": "2025-02-28T18:39:28.277445Z",
     "start_time": "2025-02-28T18:39:28.234882Z"
    }
   },
   "cell_type": "code",
   "source": [
    "\n",
    "s3 = boto3.resource(\n",
    "    service_name =\"s3\",\n",
    "    endpoint_url = s3_endpoint,\n",
    "    aws_access_key_id = access_key_id,\n",
    "    aws_secret_access_key = secret_access_key,\n",
    "    region_name=\"enam\", # Must be one of: wnam, enam, weur, eeur, apac, auto\n",
    ")"
   ],
   "id": "initial_id",
   "outputs": [],
   "execution_count": 10
  },
  {
   "metadata": {
    "ExecuteTime": {
     "end_time": "2025-02-28T18:39:30.057113Z",
     "start_time": "2025-02-28T18:39:30.049900Z"
    }
   },
   "cell_type": "code",
   "source": "bucket = s3.Bucket('ossig-stock-data')",
   "id": "4b25482dce68f107",
   "outputs": [],
   "execution_count": 11
  },
  {
   "metadata": {
    "ExecuteTime": {
     "end_time": "2025-02-28T18:39:48.159660Z",
     "start_time": "2025-02-28T18:39:48.152395Z"
    }
   },
   "cell_type": "code",
   "source": "bucket.objects.all()",
   "id": "9a64a11f2b322f5b",
   "outputs": [
    {
     "data": {
      "text/plain": [
       "s3.Bucket.objectsCollection(s3.Bucket(name='ossig-stock-data'), s3.ObjectSummary)"
      ]
     },
     "execution_count": 13,
     "metadata": {},
     "output_type": "execute_result"
    }
   ],
   "execution_count": 13
  },
  {
   "metadata": {
    "ExecuteTime": {
     "end_time": "2025-02-28T18:41:14.999212Z",
     "start_time": "2025-02-28T18:41:14.996475Z"
    }
   },
   "cell_type": "code",
   "source": "test_obj = 'test'",
   "id": "e2dc92f51d379774",
   "outputs": [],
   "execution_count": 14
  },
  {
   "metadata": {
    "ExecuteTime": {
     "end_time": "2025-02-28T18:41:36.438697Z",
     "start_time": "2025-02-28T18:41:29.182885Z"
    }
   },
   "cell_type": "code",
   "source": "bucket.put_object(Key=\"test_obj\", Body=test_obj)",
   "id": "362a570c2b8961d0",
   "outputs": [
    {
     "data": {
      "text/plain": [
       "s3.Object(bucket_name='ossig-stock-data', key='test_obj')"
      ]
     },
     "execution_count": 15,
     "metadata": {},
     "output_type": "execute_result"
    }
   ],
   "execution_count": 15
  },
  {
   "metadata": {
    "ExecuteTime": {
     "end_time": "2025-02-28T18:54:57.351926Z",
     "start_time": "2025-02-28T18:54:57.261321Z"
    }
   },
   "cell_type": "code",
   "source": "test_pull = bucket.Object(\"test_obj\").get()",
   "id": "ecc9b2e8be9d377f",
   "outputs": [],
   "execution_count": 60
  },
  {
   "metadata": {
    "ExecuteTime": {
     "end_time": "2025-02-28T18:54:58.803025Z",
     "start_time": "2025-02-28T18:54:58.795795Z"
    }
   },
   "cell_type": "code",
   "source": [
    "a = test_pull['Body'].read()\n",
    "a"
   ],
   "id": "70c5b841f3681f6a",
   "outputs": [
    {
     "data": {
      "text/plain": [
       "b'test'"
      ]
     },
     "execution_count": 61,
     "metadata": {},
     "output_type": "execute_result"
    }
   ],
   "execution_count": 61
  },
  {
   "metadata": {
    "ExecuteTime": {
     "end_time": "2025-02-28T18:54:59.715616Z",
     "start_time": "2025-02-28T18:54:59.708688Z"
    }
   },
   "cell_type": "code",
   "source": [
    "b = a.decode('utf-8')\n",
    "b"
   ],
   "id": "aecfc57004915e1",
   "outputs": [
    {
     "data": {
      "text/plain": [
       "'test'"
      ]
     },
     "execution_count": 62,
     "metadata": {},
     "output_type": "execute_result"
    }
   ],
   "execution_count": 62
  },
  {
   "metadata": {
    "ExecuteTime": {
     "end_time": "2025-02-28T18:51:05.495685Z",
     "start_time": "2025-02-28T18:51:05.490422Z"
    }
   },
   "cell_type": "code",
   "source": "import ast",
   "id": "2e563d3ede17fb43",
   "outputs": [],
   "execution_count": 49
  },
  {
   "metadata": {
    "ExecuteTime": {
     "end_time": "2025-02-28T18:51:25.865279Z",
     "start_time": "2025-02-28T18:51:25.785657Z"
    }
   },
   "cell_type": "code",
   "source": "ast.literal_eval(b)",
   "id": "38254c90d234736e",
   "outputs": [
    {
     "ename": "ValueError",
     "evalue": "malformed node or string on line 1: <ast.Name object at 0x7f96dd4c8ad0>",
     "output_type": "error",
     "traceback": [
      "\u001B[0;31m---------------------------------------------------------------------------\u001B[0m",
      "\u001B[0;31mValueError\u001B[0m                                Traceback (most recent call last)",
      "Cell \u001B[0;32mIn[52], line 1\u001B[0m\n\u001B[0;32m----> 1\u001B[0m \u001B[43mast\u001B[49m\u001B[38;5;241;43m.\u001B[39;49m\u001B[43mliteral_eval\u001B[49m\u001B[43m(\u001B[49m\u001B[43mb\u001B[49m\u001B[43m)\u001B[49m\n",
      "File \u001B[0;32m~/miniforge3/envs/ossig-numerical-data-handler/lib/python3.13/ast.py:114\u001B[0m, in \u001B[0;36mliteral_eval\u001B[0;34m(node_or_string)\u001B[0m\n\u001B[1;32m    112\u001B[0m                 \u001B[38;5;28;01mreturn\u001B[39;00m left \u001B[38;5;241m-\u001B[39m right\n\u001B[1;32m    113\u001B[0m     \u001B[38;5;28;01mreturn\u001B[39;00m _convert_signed_num(node)\n\u001B[0;32m--> 114\u001B[0m \u001B[38;5;28;01mreturn\u001B[39;00m \u001B[43m_convert\u001B[49m\u001B[43m(\u001B[49m\u001B[43mnode_or_string\u001B[49m\u001B[43m)\u001B[49m\n",
      "File \u001B[0;32m~/miniforge3/envs/ossig-numerical-data-handler/lib/python3.13/ast.py:113\u001B[0m, in \u001B[0;36mliteral_eval.<locals>._convert\u001B[0;34m(node)\u001B[0m\n\u001B[1;32m    111\u001B[0m         \u001B[38;5;28;01melse\u001B[39;00m:\n\u001B[1;32m    112\u001B[0m             \u001B[38;5;28;01mreturn\u001B[39;00m left \u001B[38;5;241m-\u001B[39m right\n\u001B[0;32m--> 113\u001B[0m \u001B[38;5;28;01mreturn\u001B[39;00m \u001B[43m_convert_signed_num\u001B[49m\u001B[43m(\u001B[49m\u001B[43mnode\u001B[49m\u001B[43m)\u001B[49m\n",
      "File \u001B[0;32m~/miniforge3/envs/ossig-numerical-data-handler/lib/python3.13/ast.py:87\u001B[0m, in \u001B[0;36mliteral_eval.<locals>._convert_signed_num\u001B[0;34m(node)\u001B[0m\n\u001B[1;32m     85\u001B[0m     \u001B[38;5;28;01melse\u001B[39;00m:\n\u001B[1;32m     86\u001B[0m         \u001B[38;5;28;01mreturn\u001B[39;00m \u001B[38;5;241m-\u001B[39m operand\n\u001B[0;32m---> 87\u001B[0m \u001B[38;5;28;01mreturn\u001B[39;00m \u001B[43m_convert_num\u001B[49m\u001B[43m(\u001B[49m\u001B[43mnode\u001B[49m\u001B[43m)\u001B[49m\n",
      "File \u001B[0;32m~/miniforge3/envs/ossig-numerical-data-handler/lib/python3.13/ast.py:78\u001B[0m, in \u001B[0;36mliteral_eval.<locals>._convert_num\u001B[0;34m(node)\u001B[0m\n\u001B[1;32m     76\u001B[0m \u001B[38;5;28;01mdef\u001B[39;00m\u001B[38;5;250m \u001B[39m\u001B[38;5;21m_convert_num\u001B[39m(node):\n\u001B[1;32m     77\u001B[0m     \u001B[38;5;28;01mif\u001B[39;00m \u001B[38;5;129;01mnot\u001B[39;00m \u001B[38;5;28misinstance\u001B[39m(node, Constant) \u001B[38;5;129;01mor\u001B[39;00m \u001B[38;5;28mtype\u001B[39m(node\u001B[38;5;241m.\u001B[39mvalue) \u001B[38;5;129;01mnot\u001B[39;00m \u001B[38;5;129;01min\u001B[39;00m (\u001B[38;5;28mint\u001B[39m, \u001B[38;5;28mfloat\u001B[39m, \u001B[38;5;28mcomplex\u001B[39m):\n\u001B[0;32m---> 78\u001B[0m         \u001B[43m_raise_malformed_node\u001B[49m\u001B[43m(\u001B[49m\u001B[43mnode\u001B[49m\u001B[43m)\u001B[49m\n\u001B[1;32m     79\u001B[0m     \u001B[38;5;28;01mreturn\u001B[39;00m node\u001B[38;5;241m.\u001B[39mvalue\n",
      "File \u001B[0;32m~/miniforge3/envs/ossig-numerical-data-handler/lib/python3.13/ast.py:75\u001B[0m, in \u001B[0;36mliteral_eval.<locals>._raise_malformed_node\u001B[0;34m(node)\u001B[0m\n\u001B[1;32m     73\u001B[0m \u001B[38;5;28;01mif\u001B[39;00m lno \u001B[38;5;241m:=\u001B[39m \u001B[38;5;28mgetattr\u001B[39m(node, \u001B[38;5;124m'\u001B[39m\u001B[38;5;124mlineno\u001B[39m\u001B[38;5;124m'\u001B[39m, \u001B[38;5;28;01mNone\u001B[39;00m):\n\u001B[1;32m     74\u001B[0m     msg \u001B[38;5;241m+\u001B[39m\u001B[38;5;241m=\u001B[39m \u001B[38;5;124mf\u001B[39m\u001B[38;5;124m'\u001B[39m\u001B[38;5;124m on line \u001B[39m\u001B[38;5;132;01m{\u001B[39;00mlno\u001B[38;5;132;01m}\u001B[39;00m\u001B[38;5;124m'\u001B[39m\n\u001B[0;32m---> 75\u001B[0m \u001B[38;5;28;01mraise\u001B[39;00m \u001B[38;5;167;01mValueError\u001B[39;00m(msg \u001B[38;5;241m+\u001B[39m \u001B[38;5;124mf\u001B[39m\u001B[38;5;124m'\u001B[39m\u001B[38;5;124m: \u001B[39m\u001B[38;5;132;01m{\u001B[39;00mnode\u001B[38;5;132;01m!r}\u001B[39;00m\u001B[38;5;124m'\u001B[39m)\n",
      "\u001B[0;31mValueError\u001B[0m: malformed node or string on line 1: <ast.Name object at 0x7f96dd4c8ad0>"
     ]
    }
   ],
   "execution_count": 52
  },
  {
   "metadata": {
    "ExecuteTime": {
     "end_time": "2025-02-28T18:51:52.365398Z",
     "start_time": "2025-02-28T18:51:52.361335Z"
    }
   },
   "cell_type": "code",
   "source": "b",
   "id": "1c5c1217b6b5bc1d",
   "outputs": [
    {
     "data": {
      "text/plain": [
       "'test'"
      ]
     },
     "execution_count": 53,
     "metadata": {},
     "output_type": "execute_result"
    }
   ],
   "execution_count": 53
  },
  {
   "metadata": {
    "ExecuteTime": {
     "end_time": "2025-02-28T18:52:50.142261Z",
     "start_time": "2025-02-28T18:52:50.135047Z"
    }
   },
   "cell_type": "code",
   "source": "type(b)",
   "id": "69fb0bd8a7a4a303",
   "outputs": [
    {
     "data": {
      "text/plain": [
       "str"
      ]
     },
     "execution_count": 57,
     "metadata": {},
     "output_type": "execute_result"
    }
   ],
   "execution_count": 57
  },
  {
   "metadata": {
    "ExecuteTime": {
     "end_time": "2025-02-28T18:52:42.075994Z",
     "start_time": "2025-02-28T18:52:42.028757Z"
    }
   },
   "cell_type": "code",
   "source": "decoded = ast.literal_eval(b)",
   "id": "b82643420d695807",
   "outputs": [
    {
     "ename": "ValueError",
     "evalue": "malformed node or string on line 1: <ast.Name object at 0x7f96dd106e10>",
     "output_type": "error",
     "traceback": [
      "\u001B[0;31m---------------------------------------------------------------------------\u001B[0m",
      "\u001B[0;31mValueError\u001B[0m                                Traceback (most recent call last)",
      "Cell \u001B[0;32mIn[55], line 1\u001B[0m\n\u001B[0;32m----> 1\u001B[0m decoded \u001B[38;5;241m=\u001B[39m \u001B[43mast\u001B[49m\u001B[38;5;241;43m.\u001B[39;49m\u001B[43mliteral_eval\u001B[49m\u001B[43m(\u001B[49m\u001B[43mb\u001B[49m\u001B[43m)\u001B[49m\n",
      "File \u001B[0;32m~/miniforge3/envs/ossig-numerical-data-handler/lib/python3.13/ast.py:114\u001B[0m, in \u001B[0;36mliteral_eval\u001B[0;34m(node_or_string)\u001B[0m\n\u001B[1;32m    112\u001B[0m                 \u001B[38;5;28;01mreturn\u001B[39;00m left \u001B[38;5;241m-\u001B[39m right\n\u001B[1;32m    113\u001B[0m     \u001B[38;5;28;01mreturn\u001B[39;00m _convert_signed_num(node)\n\u001B[0;32m--> 114\u001B[0m \u001B[38;5;28;01mreturn\u001B[39;00m \u001B[43m_convert\u001B[49m\u001B[43m(\u001B[49m\u001B[43mnode_or_string\u001B[49m\u001B[43m)\u001B[49m\n",
      "File \u001B[0;32m~/miniforge3/envs/ossig-numerical-data-handler/lib/python3.13/ast.py:113\u001B[0m, in \u001B[0;36mliteral_eval.<locals>._convert\u001B[0;34m(node)\u001B[0m\n\u001B[1;32m    111\u001B[0m         \u001B[38;5;28;01melse\u001B[39;00m:\n\u001B[1;32m    112\u001B[0m             \u001B[38;5;28;01mreturn\u001B[39;00m left \u001B[38;5;241m-\u001B[39m right\n\u001B[0;32m--> 113\u001B[0m \u001B[38;5;28;01mreturn\u001B[39;00m \u001B[43m_convert_signed_num\u001B[49m\u001B[43m(\u001B[49m\u001B[43mnode\u001B[49m\u001B[43m)\u001B[49m\n",
      "File \u001B[0;32m~/miniforge3/envs/ossig-numerical-data-handler/lib/python3.13/ast.py:87\u001B[0m, in \u001B[0;36mliteral_eval.<locals>._convert_signed_num\u001B[0;34m(node)\u001B[0m\n\u001B[1;32m     85\u001B[0m     \u001B[38;5;28;01melse\u001B[39;00m:\n\u001B[1;32m     86\u001B[0m         \u001B[38;5;28;01mreturn\u001B[39;00m \u001B[38;5;241m-\u001B[39m operand\n\u001B[0;32m---> 87\u001B[0m \u001B[38;5;28;01mreturn\u001B[39;00m \u001B[43m_convert_num\u001B[49m\u001B[43m(\u001B[49m\u001B[43mnode\u001B[49m\u001B[43m)\u001B[49m\n",
      "File \u001B[0;32m~/miniforge3/envs/ossig-numerical-data-handler/lib/python3.13/ast.py:78\u001B[0m, in \u001B[0;36mliteral_eval.<locals>._convert_num\u001B[0;34m(node)\u001B[0m\n\u001B[1;32m     76\u001B[0m \u001B[38;5;28;01mdef\u001B[39;00m\u001B[38;5;250m \u001B[39m\u001B[38;5;21m_convert_num\u001B[39m(node):\n\u001B[1;32m     77\u001B[0m     \u001B[38;5;28;01mif\u001B[39;00m \u001B[38;5;129;01mnot\u001B[39;00m \u001B[38;5;28misinstance\u001B[39m(node, Constant) \u001B[38;5;129;01mor\u001B[39;00m \u001B[38;5;28mtype\u001B[39m(node\u001B[38;5;241m.\u001B[39mvalue) \u001B[38;5;129;01mnot\u001B[39;00m \u001B[38;5;129;01min\u001B[39;00m (\u001B[38;5;28mint\u001B[39m, \u001B[38;5;28mfloat\u001B[39m, \u001B[38;5;28mcomplex\u001B[39m):\n\u001B[0;32m---> 78\u001B[0m         \u001B[43m_raise_malformed_node\u001B[49m\u001B[43m(\u001B[49m\u001B[43mnode\u001B[49m\u001B[43m)\u001B[49m\n\u001B[1;32m     79\u001B[0m     \u001B[38;5;28;01mreturn\u001B[39;00m node\u001B[38;5;241m.\u001B[39mvalue\n",
      "File \u001B[0;32m~/miniforge3/envs/ossig-numerical-data-handler/lib/python3.13/ast.py:75\u001B[0m, in \u001B[0;36mliteral_eval.<locals>._raise_malformed_node\u001B[0;34m(node)\u001B[0m\n\u001B[1;32m     73\u001B[0m \u001B[38;5;28;01mif\u001B[39;00m lno \u001B[38;5;241m:=\u001B[39m \u001B[38;5;28mgetattr\u001B[39m(node, \u001B[38;5;124m'\u001B[39m\u001B[38;5;124mlineno\u001B[39m\u001B[38;5;124m'\u001B[39m, \u001B[38;5;28;01mNone\u001B[39;00m):\n\u001B[1;32m     74\u001B[0m     msg \u001B[38;5;241m+\u001B[39m\u001B[38;5;241m=\u001B[39m \u001B[38;5;124mf\u001B[39m\u001B[38;5;124m'\u001B[39m\u001B[38;5;124m on line \u001B[39m\u001B[38;5;132;01m{\u001B[39;00mlno\u001B[38;5;132;01m}\u001B[39;00m\u001B[38;5;124m'\u001B[39m\n\u001B[0;32m---> 75\u001B[0m \u001B[38;5;28;01mraise\u001B[39;00m \u001B[38;5;167;01mValueError\u001B[39;00m(msg \u001B[38;5;241m+\u001B[39m \u001B[38;5;124mf\u001B[39m\u001B[38;5;124m'\u001B[39m\u001B[38;5;124m: \u001B[39m\u001B[38;5;132;01m{\u001B[39;00mnode\u001B[38;5;132;01m!r}\u001B[39;00m\u001B[38;5;124m'\u001B[39m)\n",
      "\u001B[0;31mValueError\u001B[0m: malformed node or string on line 1: <ast.Name object at 0x7f96dd106e10>"
     ]
    }
   ],
   "execution_count": 55
  },
  {
   "metadata": {
    "ExecuteTime": {
     "end_time": "2025-02-28T18:56:46.867909Z",
     "start_time": "2025-02-28T18:56:46.864689Z"
    }
   },
   "cell_type": "code",
   "source": "import json",
   "id": "749a53f3b1199259",
   "outputs": [],
   "execution_count": 65
  },
  {
   "metadata": {
    "ExecuteTime": {
     "end_time": "2025-02-28T18:57:18.220683Z",
     "start_time": "2025-02-28T18:57:18.215028Z"
    }
   },
   "cell_type": "code",
   "source": [
    "test_obj2 = {'test': 6.3423}\n",
    "test_obj2_bytes = json.dumps(test_obj2).encode('utf-8')"
   ],
   "id": "dbbf85093e93c977",
   "outputs": [],
   "execution_count": 66
  },
  {
   "metadata": {
    "ExecuteTime": {
     "end_time": "2025-02-28T18:57:30.819034Z",
     "start_time": "2025-02-28T18:57:30.618991Z"
    }
   },
   "cell_type": "code",
   "source": "bucket.put_object(Key=\"test_obj_arr\", Body=test_obj2_bytes)",
   "id": "b1c8ea9321f4f7f9",
   "outputs": [
    {
     "data": {
      "text/plain": [
       "s3.Object(bucket_name='ossig-stock-data', key='test_obj_arr')"
      ]
     },
     "execution_count": 67,
     "metadata": {},
     "output_type": "execute_result"
    }
   ],
   "execution_count": 67
  },
  {
   "metadata": {
    "ExecuteTime": {
     "end_time": "2025-02-28T18:57:32.923255Z",
     "start_time": "2025-02-28T18:57:32.816732Z"
    }
   },
   "cell_type": "code",
   "source": [
    "test_pull2 = bucket.Object(\"test_obj_arr\").get()\n",
    "a = test_pull2['Body'].read()"
   ],
   "id": "cd964d24a1168000",
   "outputs": [],
   "execution_count": 68
  },
  {
   "metadata": {
    "ExecuteTime": {
     "end_time": "2025-02-28T18:58:04.074084Z",
     "start_time": "2025-02-28T18:58:04.069402Z"
    }
   },
   "cell_type": "code",
   "source": "b = a.decode('utf-8')",
   "id": "bd882fca3ff757ef",
   "outputs": [],
   "execution_count": 70
  },
  {
   "metadata": {
    "ExecuteTime": {
     "end_time": "2025-02-28T18:58:14.804608Z",
     "start_time": "2025-02-28T18:58:14.799723Z"
    }
   },
   "cell_type": "code",
   "source": "decoded = ast.literal_eval(b)",
   "id": "d114e1a6b0158319",
   "outputs": [],
   "execution_count": 71
  },
  {
   "metadata": {
    "ExecuteTime": {
     "end_time": "2025-02-28T18:58:26.583807Z",
     "start_time": "2025-02-28T18:58:26.577482Z"
    }
   },
   "cell_type": "code",
   "source": "type(decoded['test'])",
   "id": "e823787c908c89eb",
   "outputs": [
    {
     "data": {
      "text/plain": [
       "float"
      ]
     },
     "execution_count": 74,
     "metadata": {},
     "output_type": "execute_result"
    }
   ],
   "execution_count": 74
  },
  {
   "metadata": {},
   "cell_type": "code",
   "outputs": [],
   "execution_count": null,
   "source": "",
   "id": "bcef9680984bad87"
  }
 ],
 "metadata": {
  "kernelspec": {
   "display_name": "Python 3",
   "language": "python",
   "name": "python3"
  },
  "language_info": {
   "codemirror_mode": {
    "name": "ipython",
    "version": 2
   },
   "file_extension": ".py",
   "mimetype": "text/x-python",
   "name": "python",
   "nbconvert_exporter": "python",
   "pygments_lexer": "ipython2",
   "version": "2.7.6"
  }
 },
 "nbformat": 4,
 "nbformat_minor": 5
}
